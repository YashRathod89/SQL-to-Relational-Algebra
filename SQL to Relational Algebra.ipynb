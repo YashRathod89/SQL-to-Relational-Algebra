{
 "cells": [
  {
   "cell_type": "markdown",
   "id": "c4cc8fc9",
   "metadata": {},
   "source": [
    "# Subject=Database Management Systems(2CS402)"
   ]
  },
  {
   "cell_type": "markdown",
   "id": "c9c653de",
   "metadata": {},
   "source": [
    "SQL to Relational Algebra Conversion"
   ]
  },
  {
   "cell_type": "markdown",
   "id": "2a87aa41",
   "metadata": {},
   "source": [
    "Group:21BCE522,21BCE521"
   ]
  },
  {
   "cell_type": "code",
   "execution_count": null,
   "id": "ab3ea504",
   "metadata": {},
   "outputs": [],
   "source": [
    "sql=input(\"Enter SQL Query:\")\n",
    "ope={'select':'σ','project':'π','and':'∧','or':'∨','cross':'⨯',\n",
    "     'union':'∪','intersect':'∩','not':'¬','minus':'-','njoin':'⋈',\n",
    "     'ljoin':'⟕','rjoin':'⟖','fjoin':'⟗'}\n",
    "def getconds(query):\n",
    "    cod=query.split(\"where\")[1]\n",
    "    cod=cod.replace(\" and \",\" \"+ope['and']+\" \")\n",
    "    cod=cod.replace(\" or \",\" \"+ope['or']+\" \")\n",
    "    cod=cod.replace(\" not \",\" \"+ope['not']+\" \")\n",
    "    return cod\n",
    "def getmain(sqlq):\n",
    "    li=sqlq.split(\" \")\n",
    "    if '' in li:li.remove('')\n",
    "    if 'intersect' in sqlq:\n",
    "        return intersect(sqlq)\n",
    "    elif 'union' in sqlq:\n",
    "        return union(sqlq)\n",
    "    elif 'minus' in sqlq:\n",
    "        return minus(sqlq)\n",
    "    elif 'natural join' in sqlq:\n",
    "        return njoin(sqlq)\n",
    "    elif 'inner join' in sqlq:\n",
    "        sqlq=sqlq.replace(\" on \",\" where \") if \" on \" in sqlq else sqlq\n",
    "        return ijoin(sqlq)\n",
    "    elif 'left join' in sqlq:\n",
    "        sqlq=sqlq.replace(\" on \",\" where \") if \" on \" in sqlq else sqlq\n",
    "        return ljoin(sqlq)\n",
    "    elif 'right join' in sqlq:\n",
    "        sqlq=sqlq.replace(\" on \",\" where \") if \" on \" in sqlq else sqlq\n",
    "        return rjoin(sqlq)\n",
    "        sqlq=sqlq.replace(\" where \",\" and \") if \" where \" in sqlq else sqlq\n",
    "        sqlq=sqlq.replace(\" on \",\" where \") if \" on \" in sqlq else sqlq\n",
    "        return fjoin(sqlq)\n",
    "    else:\n",
    "        if \"*\" in sqlq:\n",
    "            li[3]=li[3].replace(\",\",ope['cross'])\n",
    "            if 'where' not in sqlq:\n",
    "                return ope[\"select\"]+\"(\"+li[3]+\")\"\n",
    "            else:\n",
    "                cod=getconds(sqlq)\n",
    "                return ope[\"select\"]+cod+\"(\"+li[3]+\")\"\n",
    "        else:\n",
    "            cols=sqlq.split(\"from\")[0]\n",
    "            cols=cols.replace(\",\",\" \")\n",
    "            cols=cols.strip()\n",
    "            cols=cols.split(\" \")\n",
    "            cols.remove(\"select\")\n",
    "            li[3]=li[3].replace(\",\",ope['cross'])\n",
    "            if \"where\" not in sqlq:\n",
    "                return ope[\"project\"]+\" \"+\",\".join(cols)+\"(\"+li[3]+\")\"\n",
    "            else:\n",
    "                cod=getconds(sqlq)\n",
    "                return ope[\"project\"]+\" \"+\",\".join(cols)+\" (\"+ope[\"select\"]+cod+\"(\"+li[3]+\")\"+\")\"\n",
    "        \n",
    "def union(sqlq):\n",
    "    return getmain(sqlq.split(\"union\")[0])+\" \"+ope[\"union\"]+\" \"+getmain(sqlq.split(\"union\")[1])\n",
    "\n",
    "def intersect(sqlq):\n",
    "    return getmain(sqlq.split(\"intersect\")[0])+\" \"+ope[\"intersect\"]+\" \"+getmain(sqlq.split(\"intersect\")[1])\n",
    "\n",
    "def minus(sqlq):\n",
    "    return getmain(sqlq.split(\"minus\")[0])+\" \"+ope[\"minus\"]+\" \"+getmain(sqlq.split(\"minus\")[1])\n",
    "\n",
    "def njoin(sqlq):\n",
    "    return getmain(sqlq.split(\"natural join\")[0]).rstrip(\")\")+\" \"+ope['njoin']+sqlq.split(\"natural join\")[1]+\")\"\n",
    "\n",
    "def ijoin(sqlq):\n",
    "    t2=sqlq.split(\"inner join\")[1].split(\" \")[1].rstrip()\n",
    "    back=\" inner join \"+t2\n",
    "    se=sql.replace(back,\"\")\n",
    "    return getmain(se).rstrip(\")\").rstrip(\")\")+\" \"+ope['njoin']+\" \"+t2+\")\"\n",
    "\n",
    "def ljoin(sqlq):\n",
    "    t2=sqlq.split(\"left join\")[1].split(\" \")[1].rstrip()\n",
    "    back=\" left join \"+t2\n",
    "    se=sqlq.replace(back,\"\")\n",
    "    return getmain(se).rstrip(\")\").rstrip(\")\")+\" \"+ope['ljoin']+\" \"+t2+\")\"\n",
    "\n",
    "def rjoin(sqlq):\n",
    "    t2=sqlq.split(\"right join\")[1].split(\" \")[1].rstrip()\n",
    "    back=\" right join \"+t2\n",
    "    se=sqlq.replace(back,\"\")\n",
    "    return getmain(se).rstrip(\")\").rstrip(\")\")+\" \"+ope['rjoin']+\" \"+t2+\")\"\n",
    "\n",
    "def fjoin(sqlq):\n",
    "    t2=sqlq.split(\"full outer join\")[1].split(\" \")[1].rstrip()\n",
    "    back=\" full outer join \"+t2\n",
    "    se=sqlq.replace(back,\"\")\n",
    "    print(se)\n",
    "    return getmain(se).rstrip(\")\").rstrip(\")\")+\" \"+ope['fjoin']+\" \"+t2+\")\"\n",
    "\n",
    "sql=sql.rstrip(\";\")\n",
    "sql=sql.lower()\n",
    "print(getmain(sql))"
   ]
  },
  {
   "cell_type": "code",
   "execution_count": null,
   "id": "f076af33",
   "metadata": {},
   "outputs": [],
   "source": []
  },
  {
   "cell_type": "code",
   "execution_count": null,
   "id": "decfbd69",
   "metadata": {},
   "outputs": [],
   "source": []
  }
 ],
 "metadata": {
  "kernelspec": {
   "display_name": "Python 3 (ipykernel)",
   "language": "python",
   "name": "python3"
  },
  "language_info": {
   "codemirror_mode": {
    "name": "ipython",
    "version": 3
   },
   "file_extension": ".py",
   "mimetype": "text/x-python",
   "name": "python",
   "nbconvert_exporter": "python",
   "pygments_lexer": "ipython3",
   "version": "3.9.7"
  }
 },
 "nbformat": 4,
 "nbformat_minor": 5
}
